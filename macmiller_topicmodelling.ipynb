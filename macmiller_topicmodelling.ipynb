{
 "cells": [
  {
   "cell_type": "markdown",
   "metadata": {},
   "source": [
    "# Mac Miller Lyrics"
   ]
  },
  {
   "cell_type": "markdown",
   "metadata": {},
   "source": [
    "__[Codecademy video about analyzing songs with Python](https://www.youtube.com/watch?v=wKW8z6zqCFo_)__\n",
    "\n",
    "## Notes from the video\n",
    "\n",
    "See Notion"
   ]
  },
  {
   "cell_type": "markdown",
   "metadata": {},
   "source": [
    "## Preprocessing"
   ]
  },
  {
   "cell_type": "code",
   "execution_count": 1,
   "metadata": {},
   "outputs": [],
   "source": [
    "import numpy as np\n",
    "import pandas as pd\n",
    "import datetime as dt"
   ]
  },
  {
   "cell_type": "code",
   "execution_count": 2,
   "metadata": {},
   "outputs": [],
   "source": [
    "mac_df = pd.io.json.read_json(\n",
    "    '/Users/kogimandias/DataScience/MusicLyrics/MacMiller/data/MacMillerLyrics.json')\n"
   ]
  },
  {
   "cell_type": "code",
   "execution_count": 3,
   "metadata": {},
   "outputs": [
    {
     "data": {
      "text/html": [
       "<div>\n",
       "<style scoped>\n",
       "    .dataframe tbody tr th:only-of-type {\n",
       "        vertical-align: middle;\n",
       "    }\n",
       "\n",
       "    .dataframe tbody tr th {\n",
       "        vertical-align: top;\n",
       "    }\n",
       "\n",
       "    .dataframe thead th {\n",
       "        text-align: right;\n",
       "    }\n",
       "</style>\n",
       "<table border=\"1\" class=\"dataframe\">\n",
       "  <thead>\n",
       "    <tr style=\"text-align: right;\">\n",
       "      <th></th>\n",
       "      <th>lyrics</th>\n",
       "      <th>metadata</th>\n",
       "      <th>url</th>\n",
       "      <th>annotations</th>\n",
       "    </tr>\n",
       "  </thead>\n",
       "  <tbody>\n",
       "    <tr>\n",
       "      <th>0</th>\n",
       "      <td>[When you're young, not much matters, When you...</td>\n",
       "      <td>{'title': 'Kickin’ Incredibly Dope Shit (Intro...</td>\n",
       "      <td>https://genius.com/Mac-miller-kickin-incredibl...</td>\n",
       "      <td>[{'section': 'Intro: Telly &amp; Mac Miller', 'sta...</td>\n",
       "    </tr>\n",
       "    <tr>\n",
       "      <th>1</th>\n",
       "      <td>[Do you mind if we smoke this blunt outside?, ...</td>\n",
       "      <td>{'title': 'Outside', 'album_title': 'K.I.D.S.'...</td>\n",
       "      <td>https://genius.com/Mac-miller-outside-lyrics</td>\n",
       "      <td>[{'section': 'Chorus', 'start': 0, 'end': 4}, ...</td>\n",
       "    </tr>\n",
       "    <tr>\n",
       "      <th>2</th>\n",
       "      <td>[If you in the ride, turn the volume real high...</td>\n",
       "      <td>{'title': 'Get Em Up', 'album_title': 'K.I.D.S...</td>\n",
       "      <td>https://genius.com/Mac-miller-get-em-up-lyrics</td>\n",
       "      <td>[{'section': 'Chorus', 'start': 0, 'end': 8}, ...</td>\n",
       "    </tr>\n",
       "    <tr>\n",
       "      <th>3</th>\n",
       "      <td>[Woah, Haha, yeah, And the Nikes on my feet ke...</td>\n",
       "      <td>{'title': 'Nikes on My Feet', 'album_title': '...</td>\n",
       "      <td>https://genius.com/Mac-miller-nikes-on-my-feet...</td>\n",
       "      <td>[{'section': 'Intro: Mac Miller', 'start': 0, ...</td>\n",
       "    </tr>\n",
       "    <tr>\n",
       "      <th>4</th>\n",
       "      <td>[Kids, Kids, yeah, Haha, I'm just high, why th...</td>\n",
       "      <td>{'title': 'Senior Skip Day', 'album_title': 'K...</td>\n",
       "      <td>https://genius.com/Mac-miller-senior-skip-day-...</td>\n",
       "      <td>[{'section': 'Intro', 'start': 0, 'end': 3}, {...</td>\n",
       "    </tr>\n",
       "  </tbody>\n",
       "</table>\n",
       "</div>"
      ],
      "text/plain": [
       "                                              lyrics  \\\n",
       "0  [When you're young, not much matters, When you...   \n",
       "1  [Do you mind if we smoke this blunt outside?, ...   \n",
       "2  [If you in the ride, turn the volume real high...   \n",
       "3  [Woah, Haha, yeah, And the Nikes on my feet ke...   \n",
       "4  [Kids, Kids, yeah, Haha, I'm just high, why th...   \n",
       "\n",
       "                                            metadata  \\\n",
       "0  {'title': 'Kickin’ Incredibly Dope Shit (Intro...   \n",
       "1  {'title': 'Outside', 'album_title': 'K.I.D.S.'...   \n",
       "2  {'title': 'Get Em Up', 'album_title': 'K.I.D.S...   \n",
       "3  {'title': 'Nikes on My Feet', 'album_title': '...   \n",
       "4  {'title': 'Senior Skip Day', 'album_title': 'K...   \n",
       "\n",
       "                                                 url  \\\n",
       "0  https://genius.com/Mac-miller-kickin-incredibl...   \n",
       "1       https://genius.com/Mac-miller-outside-lyrics   \n",
       "2     https://genius.com/Mac-miller-get-em-up-lyrics   \n",
       "3  https://genius.com/Mac-miller-nikes-on-my-feet...   \n",
       "4  https://genius.com/Mac-miller-senior-skip-day-...   \n",
       "\n",
       "                                         annotations  \n",
       "0  [{'section': 'Intro: Telly & Mac Miller', 'sta...  \n",
       "1  [{'section': 'Chorus', 'start': 0, 'end': 4}, ...  \n",
       "2  [{'section': 'Chorus', 'start': 0, 'end': 8}, ...  \n",
       "3  [{'section': 'Intro: Mac Miller', 'start': 0, ...  \n",
       "4  [{'section': 'Intro', 'start': 0, 'end': 3}, {...  "
      ]
     },
     "execution_count": 3,
     "metadata": {},
     "output_type": "execute_result"
    }
   ],
   "source": [
    "mac_df.head()"
   ]
  },
  {
   "cell_type": "markdown",
   "metadata": {},
   "source": [
    "We can see that we have two Series of dictionaries in our df, let's turn metadata object into a df"
   ]
  },
  {
   "cell_type": "code",
   "execution_count": 4,
   "metadata": {},
   "outputs": [],
   "source": [
    "mac_meta = pd.DataFrame(list(mac_df.metadata))"
   ]
  },
  {
   "cell_type": "markdown",
   "metadata": {},
   "source": [
    "We have way too many unnecessary columns so we create a new meta df that only contains valuable ones."
   ]
  },
  {
   "cell_type": "code",
   "execution_count": 5,
   "metadata": {},
   "outputs": [],
   "source": [
    "mac_meta = mac_meta[['title', 'album_title', 'written_by', 'release_date']]\n"
   ]
  },
  {
   "cell_type": "markdown",
   "metadata": {},
   "source": [
    "For now, we only need the lyrics from mac_df."
   ]
  },
  {
   "cell_type": "code",
   "execution_count": 6,
   "metadata": {},
   "outputs": [],
   "source": [
    "mac_df = mac_df.lyrics"
   ]
  },
  {
   "cell_type": "code",
   "execution_count": 7,
   "metadata": {},
   "outputs": [],
   "source": [
    "mac_df = pd.concat([mac_meta,mac_df], axis = 1)"
   ]
  },
  {
   "cell_type": "markdown",
   "metadata": {},
   "source": [
    "Let's check our columns data types."
   ]
  },
  {
   "cell_type": "code",
   "execution_count": 8,
   "metadata": {},
   "outputs": [
    {
     "data": {
      "text/plain": [
       "title           object\n",
       "album_title     object\n",
       "written_by      object\n",
       "release_date    object\n",
       "lyrics          object\n",
       "dtype: object"
      ]
     },
     "execution_count": 8,
     "metadata": {},
     "output_type": "execute_result"
    }
   ],
   "source": [
    "mac_df.dtypes"
   ]
  },
  {
   "cell_type": "markdown",
   "metadata": {},
   "source": [
    "We have only object types but title and album_title should be strings.\n",
    "written_by should have the list of all writers involved.\n",
    "release_date should be a datetime object.\n",
    "lyrics should stay an object for now."
   ]
  },
  {
   "cell_type": "code",
   "execution_count": 9,
   "metadata": {},
   "outputs": [],
   "source": [
    "convert_dict = {'title': 'string', 'album_title': 'string', 'lyrics': 'string'}\n",
    "mac_df.release_date = pd.to_datetime(mac_df.release_date)\n",
    "mac_df = mac_df.astype(convert_dict)\n"
   ]
  },
  {
   "cell_type": "code",
   "execution_count": 10,
   "metadata": {},
   "outputs": [],
   "source": [
    "mac_df.album_title.replace(to_replace= 'Balloonerism*', value = 'Balloonerism', inplace=True)"
   ]
  },
  {
   "cell_type": "markdown",
   "metadata": {},
   "source": [
    "Let's drop all unreleased songs as they do not properly represent mac_df's work as well as some albums that don't interest me atm."
   ]
  },
  {
   "cell_type": "code",
   "execution_count": 11,
   "metadata": {},
   "outputs": [],
   "source": [
    "mac_df.drop(mac_df[mac_df.album_title ==\n",
    "            'Live from London'].index, inplace=True)\n",
    "mac_df.drop(mac_df[mac_df.album_title ==\n",
    "            'Live from Space'].index, inplace=True)\n",
    "mac_df.drop(mac_df[mac_df.album_title ==\n",
    "            'Unreleased Songs'].index, inplace=True)\n",
    "mac_df.drop(mac_df[mac_df.album_title ==\n",
    "            'K.I.D.S. (Deluxe)'].index, inplace=True)\n",
    "mac_df.drop(mac_df[mac_df.album_title ==\n",
    "            'Spotify Singles'].index, inplace=True)\n",
    "mac_df.drop(mac_df[mac_df.album_title ==\n",
    "            'But My Mackin’ Ain’t Easy (Original Version)'].index, inplace=True)\n",
    "mac_df.drop(mac_df[mac_df.album_title == 'Balloonerism'].index, inplace=True)\n",
    "mac_df.drop(mac_df[mac_df.album_title ==\n",
    "            'I Love Life, Thank You'].index, inplace=True)\n",
    "\n",
    "mac_df.drop(mac_df[mac_df.title == 'Of The Soul Remix'].index, inplace=True)\n"
   ]
  },
  {
   "cell_type": "markdown",
   "metadata": {},
   "source": [
    "We can see from the remaining songs that we have an album *Circles* and *Circles Deluxe*, it makes sense to merge them. <br>"
   ]
  },
  {
   "cell_type": "code",
   "execution_count": 12,
   "metadata": {},
   "outputs": [],
   "source": [
    "mac_df.album_title.replace(to_replace= 'Circles (Deluxe)', value = 'Circles', inplace=True)"
   ]
  },
  {
   "cell_type": "markdown",
   "metadata": {},
   "source": [
    "Let's drop for now anything published before his first official album **Blue slide park**"
   ]
  },
  {
   "cell_type": "code",
   "execution_count": 13,
   "metadata": {},
   "outputs": [],
   "source": [
    "mac_df.drop(mac_df[mac_df.release_date <= '01-01-2011'].index, inplace=True)"
   ]
  },
  {
   "cell_type": "code",
   "execution_count": 14,
   "metadata": {},
   "outputs": [],
   "source": [
    "counts = mac_df['album_title'].value_counts()\n",
    "\n",
    "mac_df = mac_df[~mac_df['album_title'].isin(counts[counts < 5].index)]"
   ]
  },
  {
   "cell_type": "markdown",
   "metadata": {},
   "source": [
    "Also, homogenize the dates of all songs from a same album."
   ]
  },
  {
   "cell_type": "code",
   "execution_count": 15,
   "metadata": {},
   "outputs": [
    {
     "name": "stdout",
     "output_type": "stream",
     "text": [
      "{'Macadelic', 'Faces', 'Best Day Ever', 'Swimming', 'The Divine Feminine', 'Blue Slide Park', 'GO:OD AM ', 'Circles', 'Watching Movies with the Sound Off'}\n"
     ]
    }
   ],
   "source": [
    "print(set(mac_df.album_title))"
   ]
  },
  {
   "cell_type": "markdown",
   "metadata": {},
   "source": [
    "__[multiindex to frame](https://pandas.pydata.org/docs/reference/api/pandas.MultiIndex.to_frame.html)__"
   ]
  },
  {
   "cell_type": "code",
   "execution_count": 16,
   "metadata": {},
   "outputs": [
    {
     "name": "stdout",
     "output_type": "stream",
     "text": [
      "                          album_title release_date\n",
      "0                       Best Day Ever   2011-11-03\n",
      "1                     Blue Slide Park   2011-08-11\n",
      "2                             Circles   2020-01-17\n",
      "3                               Faces   2014-11-05\n",
      "4                           GO:OD AM    2015-09-18\n",
      "5                           Macadelic   2012-03-23\n",
      "6                            Swimming   2018-03-08\n",
      "7                 The Divine Feminine   2016-09-16\n",
      "8  Watching Movies with the Sound Off   2013-06-18\n"
     ]
    }
   ],
   "source": [
    "albums_dates = mac_df.groupby(by='album_title').release_date.value_counts()\n",
    "# print(albums_dates)\n",
    "\n",
    "real_albums_dates = albums_dates[albums_dates >\n",
    "                                 3].index.to_frame().reset_index(drop=True)\n",
    "print(real_albums_dates)\n"
   ]
  },
  {
   "cell_type": "code",
   "execution_count": 17,
   "metadata": {},
   "outputs": [],
   "source": [
    "mac_df = pd.merge(left=mac_df,\n",
    "             right = real_albums_dates,\n",
    "             on = 'album_title',\n",
    "             how = 'left',\n",
    "             ).drop('release_date_x', axis=1)"
   ]
  },
  {
   "cell_type": "code",
   "execution_count": 18,
   "metadata": {},
   "outputs": [
    {
     "data": {
      "text/plain": [
       "0     2020-01-17\n",
       "1     2020-01-17\n",
       "2     2020-01-17\n",
       "3     2020-01-17\n",
       "4     2020-01-17\n",
       "         ...    \n",
       "143   2011-11-03\n",
       "144   2011-11-03\n",
       "145   2011-11-03\n",
       "146   2011-11-03\n",
       "147   2011-11-03\n",
       "Name: release_date, Length: 148, dtype: datetime64[ns]"
      ]
     },
     "execution_count": 18,
     "metadata": {},
     "output_type": "execute_result"
    }
   ],
   "source": [
    "mac_df.release_date_y.rename('release_date', inplace=True)"
   ]
  },
  {
   "cell_type": "code",
   "execution_count": 19,
   "metadata": {},
   "outputs": [
    {
     "data": {
      "text/plain": [
       "148"
      ]
     },
     "execution_count": 19,
     "metadata": {},
     "output_type": "execute_result"
    }
   ],
   "source": [
    "len(mac_df)"
   ]
  },
  {
   "cell_type": "code",
   "execution_count": 20,
   "metadata": {},
   "outputs": [],
   "source": [
    "pd.options.display.max_colwidth=100"
   ]
  },
  {
   "cell_type": "code",
   "execution_count": 21,
   "metadata": {},
   "outputs": [],
   "source": [
    "from sklearn.feature_extraction.text import TfidfVectorizer"
   ]
  },
  {
   "cell_type": "code",
   "execution_count": 22,
   "metadata": {},
   "outputs": [],
   "source": [
    "import nltk\n",
    "from nltk.corpus import stopwords"
   ]
  },
  {
   "cell_type": "code",
   "execution_count": 23,
   "metadata": {},
   "outputs": [],
   "source": [
    "stop_words = stopwords.words('english')"
   ]
  },
  {
   "cell_type": "code",
   "execution_count": 24,
   "metadata": {},
   "outputs": [],
   "source": [
    "stop_words.extend(['im', 'aint', 'dont', 'thats', 'get', 'make', 'yeah', 'got', 'shit', 'like', 'cause', 'know', 'fuck', 'come', 'go', 'tell', 'keep', 'take', 'back',\n",
    "                   'well', 'la', 'ima', 'oh', 'hey', 'cant', 'shes', 'boo', 'huh', 'ha', 'whoa', 'uh', 'da', 'yall', 'aha', 'haha', 'ah', 'ooh', 'way', 'let', 'em', 'yep', 'ones', 'ya', 'wanna',\n",
    "                   'need', 'woo', 'nigga', 'yo', 'roll', 'put', 'gotta', 'mac', 'miller', 'gon', 'jerm', 'youre', 'lot', 'around', 'find', 'right', 'low', 'goes', 'ayy',\n",
    "                   'ive', 'ill'])\n"
   ]
  },
  {
   "cell_type": "markdown",
   "metadata": {},
   "source": [
    "TfidVectorizer can take a list of words to be removed as stop_words. min_df is the minimal frequency of a term in a document to be considered, max_df is its max."
   ]
  },
  {
   "cell_type": "code",
   "execution_count": 25,
   "metadata": {},
   "outputs": [],
   "source": [
    "vectorizer = TfidfVectorizer(stop_words = stop_words, min_df = 0.05, max_df=0.95)"
   ]
  },
  {
   "cell_type": "markdown",
   "metadata": {},
   "source": [
    "The lyrics we have in the dataframe are all part of a list rather than a string, we need to change the type of the data in order to apply the vectorizer to the lyrics.\n",
    "Actually, the type is fine but the problem is that there are brackets that I guess are interpreted as a list by python. let's see if removing them helps. We can also already remove the backslashes and parentheses. We use regex so that all characters that are not alphanumerical are removed."
   ]
  },
  {
   "cell_type": "code",
   "execution_count": 26,
   "metadata": {},
   "outputs": [],
   "source": [
    "#df['name'].str.replace(r\"\\(.*\\)\",\"\")\n",
    "#test = mac_df['lyrics'].str.replace(r\"\\[*\\]*\\(*\\)*\\,*,*'*\\\"*\\?*\\!*\",\"\")\n",
    "#test = test.replace(\"\\ \",\"\")\n",
    "#test[1]"
   ]
  },
  {
   "cell_type": "code",
   "execution_count": 27,
   "metadata": {},
   "outputs": [
    {
     "name": "stderr",
     "output_type": "stream",
     "text": [
      "/var/folders/qv/77qvv71j3gv0ktk3dnzvyzyw0000gn/T/ipykernel_52486/849002414.py:1: FutureWarning: The default value of regex will change from True to False in a future version.\n",
      "  mac_df.lyrics = mac_df.lyrics.str.replace(r\"\\[*\\]*\\(*\\)*\\,*'*\\\"*\\?*\\!*\\.*\", \"\")\n"
     ]
    }
   ],
   "source": [
    "mac_df.lyrics = mac_df.lyrics.str.replace(r\"\\[*\\]*\\(*\\)*\\,*'*\\\"*\\?*\\!*\\.*\", \"\")\n",
    "mac_df = mac_df.replace(\"\\ \",\"\")\n",
    "#mac_df.lyrics = mac_df.lyrics.str.replace(r\"\\[*\\]*\", \"\")"
   ]
  },
  {
   "cell_type": "code",
   "execution_count": 28,
   "metadata": {},
   "outputs": [
    {
     "data": {
      "text/plain": [
       "0    Well this is what it look like right before you fall Stumblin around youve been guessing your di...\n",
       "1    Outside is cloudy but I like that better Better better Behind the wheel but still aint on my way...\n",
       "2    Its a blue world without you Its a blue world alone Yeah well this a mad world it made me crazy ...\n",
       "3    I spent the whole day in my head Do a little spring cleanin Im always too busy dreamin Well mayb...\n",
       "4    Im so close I can taste it The man on the moon keep playing Practical jokes planting the mirrors...\n",
       "Name: lyrics, dtype: string"
      ]
     },
     "execution_count": 28,
     "metadata": {},
     "output_type": "execute_result"
    }
   ],
   "source": [
    "mac_df.lyrics.head()"
   ]
  },
  {
   "cell_type": "code",
   "execution_count": 29,
   "metadata": {},
   "outputs": [],
   "source": [
    "tfidf = vectorizer.fit_transform(mac_df.lyrics)"
   ]
  },
  {
   "cell_type": "markdown",
   "metadata": {},
   "source": [
    "# NLP"
   ]
  },
  {
   "cell_type": "markdown",
   "metadata": {},
   "source": [
    "Following the video, we want to assign each album to a topic, how to assign a topic? Using a topic model.\n",
    "\n",
    "A popular method is called __[LDA - Latend Dirichlet Allocation](https://en.wikipedia.org/wiki/Latent_Dirichlet_allocation)__ .\n",
    "\n",
    "Another one is __[NMF - Non-negative Matrix Factorization](https://scikit-learn.org/stable/auto_examples/applications/plot_topics_extraction_with_nmf_lda.html)__\n",
    "\n",
    "Those techniques will return a score for each topic in each document (song in this case). NMF will find the words automatically (note to self: look into the math behind)"
   ]
  },
  {
   "cell_type": "code",
   "execution_count": 30,
   "metadata": {},
   "outputs": [],
   "source": [
    "from sklearn.decomposition import NMF"
   ]
  },
  {
   "cell_type": "code",
   "execution_count": 31,
   "metadata": {},
   "outputs": [],
   "source": [
    "#nmf = NMF(n_components= mac_df.album_title.nunique())\n",
    "nmf = NMF(n_components= 4)"
   ]
  },
  {
   "cell_type": "markdown",
   "metadata": {},
   "source": [
    "n_components are the numbero of topics that we want to use. We can use the number of albums as the number of topics. <br>\n",
    "In the video, it says it depends as topic modelling is mostly an art. We can look into that after we have a viable MVP."
   ]
  },
  {
   "cell_type": "code",
   "execution_count": 32,
   "metadata": {},
   "outputs": [
    {
     "name": "stderr",
     "output_type": "stream",
     "text": [
      "/Users/kogimandias/opt/anaconda3/envs/spotenv/lib/python3.9/site-packages/sklearn/decomposition/_nmf.py:289: FutureWarning: The 'init' value, when 'init=None' and n_components is less than n_samples and n_features, will be changed from 'nndsvd' to 'nndsvda' in 1.1 (renaming of 0.26).\n",
      "  warnings.warn(\n"
     ]
    }
   ],
   "source": [
    "topic_values = nmf.fit_transform(tfidf)"
   ]
  },
  {
   "cell_type": "markdown",
   "metadata": {},
   "source": [
    "Now let's look into the words that have been chosen by nmf. code is from the video"
   ]
  },
  {
   "cell_type": "code",
   "execution_count": 33,
   "metadata": {},
   "outputs": [
    {
     "name": "stdout",
     "output_type": "stream",
     "text": [
      "Topic #1: time could baby good mind always okay away little alright\n",
      "Topic #2: love feel girl forever son mind nothing someone pain waitin\n",
      "Topic #3: bitch ass money real bitches drugs hoes motherfuckin goddamn top\n",
      "Topic #4: life world party day happy nothin wake smile boy matter\n"
     ]
    },
    {
     "name": "stderr",
     "output_type": "stream",
     "text": [
      "/Users/kogimandias/opt/anaconda3/envs/spotenv/lib/python3.9/site-packages/sklearn/utils/deprecation.py:87: FutureWarning: Function get_feature_names is deprecated; get_feature_names is deprecated in 1.0 and will be removed in 1.2. Please use get_feature_names_out instead.\n",
      "  warnings.warn(msg, category=FutureWarning)\n"
     ]
    }
   ],
   "source": [
    "for topic_num, topic in enumerate(nmf.components_):\n",
    "    message = \"Topic #{}: \".format(topic_num+1)\n",
    "    message += \" \".join([vectorizer.get_feature_names()[i] for i in topic.argsort()[:-11:-1]])\n",
    "    print(message)"
   ]
  },
  {
   "cell_type": "code",
   "execution_count": 34,
   "metadata": {},
   "outputs": [],
   "source": [
    "stop_words.extend(['im', 'aint', 'dont', 'thats', 'get', 'make', 'yeah', 'got', 'shit', 'like', 'cause', 'know', 'fuck', 'come', 'go', 'tell', 'keep', 'take', 'back',\n",
    "                   'well', 'la', 'ima', 'oh', 'hey', 'cant', 'shes', 'boo', 'huh', 'ha', 'whoa', 'uh', 'da', 'yall', 'aha', 'haha', 'ah', 'ooh', 'way', 'let', 'em', 'yep', 'ones', 'ya', 'wanna',\n",
    "                   'need', 'woo', 'nigga', 'yo', 'roll', 'put', 'gotta', 'mac', 'miller', 'gon', 'jerm', 'youre', 'lot', 'around', 'find', 'right', 'low', 'goes', 'ayy',\n",
    "                   'ive', 'ill'])\n"
   ]
  },
  {
   "cell_type": "markdown",
   "metadata": {},
   "source": [
    "We can see that most words are not adding context. Therefore, we can consider them as kind of *stopwords* and remove them. We can create a list and add them to the stopwords we had at the beginning."
   ]
  },
  {
   "cell_type": "code",
   "execution_count": 35,
   "metadata": {},
   "outputs": [],
   "source": [
    "topic_labels = ['mindful','love','egotrip','party']"
   ]
  },
  {
   "cell_type": "code",
   "execution_count": 36,
   "metadata": {},
   "outputs": [],
   "source": [
    "df_topics = pd.DataFrame(topic_values, columns=topic_labels)"
   ]
  },
  {
   "cell_type": "code",
   "execution_count": 37,
   "metadata": {},
   "outputs": [
    {
     "data": {
      "text/html": [
       "<div>\n",
       "<style scoped>\n",
       "    .dataframe tbody tr th:only-of-type {\n",
       "        vertical-align: middle;\n",
       "    }\n",
       "\n",
       "    .dataframe tbody tr th {\n",
       "        vertical-align: top;\n",
       "    }\n",
       "\n",
       "    .dataframe thead th {\n",
       "        text-align: right;\n",
       "    }\n",
       "</style>\n",
       "<table border=\"1\" class=\"dataframe\">\n",
       "  <thead>\n",
       "    <tr style=\"text-align: right;\">\n",
       "      <th></th>\n",
       "      <th>mindful</th>\n",
       "      <th>love</th>\n",
       "      <th>egotrip</th>\n",
       "      <th>party</th>\n",
       "    </tr>\n",
       "  </thead>\n",
       "  <tbody>\n",
       "    <tr>\n",
       "      <th>0</th>\n",
       "      <td>0.138204</td>\n",
       "      <td>0.000000</td>\n",
       "      <td>0.000000</td>\n",
       "      <td>0.026252</td>\n",
       "    </tr>\n",
       "    <tr>\n",
       "      <th>1</th>\n",
       "      <td>0.149870</td>\n",
       "      <td>0.018173</td>\n",
       "      <td>0.000000</td>\n",
       "      <td>0.102869</td>\n",
       "    </tr>\n",
       "    <tr>\n",
       "      <th>2</th>\n",
       "      <td>0.123545</td>\n",
       "      <td>0.012009</td>\n",
       "      <td>0.028633</td>\n",
       "      <td>0.062067</td>\n",
       "    </tr>\n",
       "    <tr>\n",
       "      <th>3</th>\n",
       "      <td>0.240775</td>\n",
       "      <td>0.000000</td>\n",
       "      <td>0.000000</td>\n",
       "      <td>0.043966</td>\n",
       "    </tr>\n",
       "    <tr>\n",
       "      <th>4</th>\n",
       "      <td>0.000000</td>\n",
       "      <td>0.047411</td>\n",
       "      <td>0.041082</td>\n",
       "      <td>0.138942</td>\n",
       "    </tr>\n",
       "    <tr>\n",
       "      <th>...</th>\n",
       "      <td>...</td>\n",
       "      <td>...</td>\n",
       "      <td>...</td>\n",
       "      <td>...</td>\n",
       "    </tr>\n",
       "    <tr>\n",
       "      <th>143</th>\n",
       "      <td>0.038311</td>\n",
       "      <td>0.048640</td>\n",
       "      <td>0.023972</td>\n",
       "      <td>0.160179</td>\n",
       "    </tr>\n",
       "    <tr>\n",
       "      <th>144</th>\n",
       "      <td>0.013201</td>\n",
       "      <td>0.121358</td>\n",
       "      <td>0.078778</td>\n",
       "      <td>0.249318</td>\n",
       "    </tr>\n",
       "    <tr>\n",
       "      <th>145</th>\n",
       "      <td>0.000000</td>\n",
       "      <td>0.002074</td>\n",
       "      <td>0.072865</td>\n",
       "      <td>0.280173</td>\n",
       "    </tr>\n",
       "    <tr>\n",
       "      <th>146</th>\n",
       "      <td>0.081677</td>\n",
       "      <td>0.038355</td>\n",
       "      <td>0.082203</td>\n",
       "      <td>0.100701</td>\n",
       "    </tr>\n",
       "    <tr>\n",
       "      <th>147</th>\n",
       "      <td>0.000000</td>\n",
       "      <td>0.000000</td>\n",
       "      <td>0.000000</td>\n",
       "      <td>0.577956</td>\n",
       "    </tr>\n",
       "  </tbody>\n",
       "</table>\n",
       "<p>148 rows × 4 columns</p>\n",
       "</div>"
      ],
      "text/plain": [
       "      mindful      love   egotrip     party\n",
       "0    0.138204  0.000000  0.000000  0.026252\n",
       "1    0.149870  0.018173  0.000000  0.102869\n",
       "2    0.123545  0.012009  0.028633  0.062067\n",
       "3    0.240775  0.000000  0.000000  0.043966\n",
       "4    0.000000  0.047411  0.041082  0.138942\n",
       "..        ...       ...       ...       ...\n",
       "143  0.038311  0.048640  0.023972  0.160179\n",
       "144  0.013201  0.121358  0.078778  0.249318\n",
       "145  0.000000  0.002074  0.072865  0.280173\n",
       "146  0.081677  0.038355  0.082203  0.100701\n",
       "147  0.000000  0.000000  0.000000  0.577956\n",
       "\n",
       "[148 rows x 4 columns]"
      ]
     },
     "execution_count": 37,
     "metadata": {},
     "output_type": "execute_result"
    }
   ],
   "source": [
    "df_topics"
   ]
  },
  {
   "cell_type": "markdown",
   "metadata": {},
   "source": [
    "We now have a score for each song and each topic. However, we would like to assign a song to only one (or maybe two) categories at most."
   ]
  },
  {
   "cell_type": "code",
   "execution_count": 38,
   "metadata": {},
   "outputs": [],
   "source": [
    "mac_df = mac_df.join(df_topics)"
   ]
  },
  {
   "cell_type": "code",
   "execution_count": 39,
   "metadata": {},
   "outputs": [],
   "source": [
    "mac_df.loc[mac_df['mindful'] >= 0.1, 'mindful'] = 1\n",
    "mac_df.loc[mac_df['love'] >= 0.1, 'love'] = 1\n",
    "mac_df.loc[mac_df['egotrip'] >= 0.1, 'egotrip'] =1\n",
    "mac_df.loc[mac_df['party'] >= 0.1, 'party'] = 1"
   ]
  },
  {
   "cell_type": "code",
   "execution_count": 40,
   "metadata": {},
   "outputs": [],
   "source": [
    "mac_df.loc[mac_df['mindful'] < 0.1, 'party'] = 0\n",
    "mac_df.loc[mac_df['love'] < 0.1, 'love'] = 0\n",
    "mac_df.loc[mac_df['egotrip'] < 0.1, 'egotrip'] =0\n",
    "mac_df.loc[mac_df['party'] < 0.1, 'party'] = 0"
   ]
  },
  {
   "cell_type": "code",
   "execution_count": 41,
   "metadata": {},
   "outputs": [],
   "source": [
    "mac_df['year'] = mac_df.release_date_y.dt.year"
   ]
  },
  {
   "cell_type": "code",
   "execution_count": 42,
   "metadata": {},
   "outputs": [],
   "source": [
    "year_topics = mac_df.groupby('album_title').mean().round(2).reset_index()"
   ]
  },
  {
   "cell_type": "code",
   "execution_count": 43,
   "metadata": {},
   "outputs": [],
   "source": [
    "year_topics\n",
    "year_topics = year_topics.sort_values(by= ['year'])"
   ]
  },
  {
   "cell_type": "code",
   "execution_count": 44,
   "metadata": {},
   "outputs": [
    {
     "data": {
      "text/html": [
       "<div>\n",
       "<style scoped>\n",
       "    .dataframe tbody tr th:only-of-type {\n",
       "        vertical-align: middle;\n",
       "    }\n",
       "\n",
       "    .dataframe tbody tr th {\n",
       "        vertical-align: top;\n",
       "    }\n",
       "\n",
       "    .dataframe thead th {\n",
       "        text-align: right;\n",
       "    }\n",
       "</style>\n",
       "<table border=\"1\" class=\"dataframe\">\n",
       "  <thead>\n",
       "    <tr style=\"text-align: right;\">\n",
       "      <th></th>\n",
       "      <th>album_title</th>\n",
       "      <th>mindful</th>\n",
       "      <th>love</th>\n",
       "      <th>egotrip</th>\n",
       "      <th>party</th>\n",
       "    </tr>\n",
       "  </thead>\n",
       "  <tbody>\n",
       "    <tr>\n",
       "      <th>0</th>\n",
       "      <td>Best Day Ever</td>\n",
       "      <td>0.21</td>\n",
       "      <td>0.06</td>\n",
       "      <td>0.06</td>\n",
       "      <td>0.06</td>\n",
       "    </tr>\n",
       "    <tr>\n",
       "      <th>1</th>\n",
       "      <td>Blue Slide Park</td>\n",
       "      <td>0.43</td>\n",
       "      <td>0.12</td>\n",
       "      <td>0.29</td>\n",
       "      <td>0.12</td>\n",
       "    </tr>\n",
       "    <tr>\n",
       "      <th>5</th>\n",
       "      <td>Macadelic</td>\n",
       "      <td>0.44</td>\n",
       "      <td>0.24</td>\n",
       "      <td>0.41</td>\n",
       "      <td>0.00</td>\n",
       "    </tr>\n",
       "    <tr>\n",
       "      <th>8</th>\n",
       "      <td>Watching Movies with the Sound Off</td>\n",
       "      <td>0.29</td>\n",
       "      <td>0.16</td>\n",
       "      <td>0.47</td>\n",
       "      <td>0.05</td>\n",
       "    </tr>\n",
       "    <tr>\n",
       "      <th>3</th>\n",
       "      <td>Faces</td>\n",
       "      <td>0.36</td>\n",
       "      <td>0.04</td>\n",
       "      <td>0.46</td>\n",
       "      <td>0.00</td>\n",
       "    </tr>\n",
       "    <tr>\n",
       "      <th>4</th>\n",
       "      <td>GO:OD AM</td>\n",
       "      <td>0.50</td>\n",
       "      <td>0.06</td>\n",
       "      <td>0.47</td>\n",
       "      <td>0.12</td>\n",
       "    </tr>\n",
       "    <tr>\n",
       "      <th>7</th>\n",
       "      <td>The Divine Feminine</td>\n",
       "      <td>0.82</td>\n",
       "      <td>0.27</td>\n",
       "      <td>0.00</td>\n",
       "      <td>0.00</td>\n",
       "    </tr>\n",
       "    <tr>\n",
       "      <th>6</th>\n",
       "      <td>Swimming</td>\n",
       "      <td>0.93</td>\n",
       "      <td>0.08</td>\n",
       "      <td>0.15</td>\n",
       "      <td>0.00</td>\n",
       "    </tr>\n",
       "    <tr>\n",
       "      <th>2</th>\n",
       "      <td>Circles</td>\n",
       "      <td>0.86</td>\n",
       "      <td>0.14</td>\n",
       "      <td>0.00</td>\n",
       "      <td>0.14</td>\n",
       "    </tr>\n",
       "  </tbody>\n",
       "</table>\n",
       "</div>"
      ],
      "text/plain": [
       "                          album_title  mindful  love  egotrip  party\n",
       "0                       Best Day Ever     0.21  0.06     0.06   0.06\n",
       "1                     Blue Slide Park     0.43  0.12     0.29   0.12\n",
       "5                           Macadelic     0.44  0.24     0.41   0.00\n",
       "8  Watching Movies with the Sound Off     0.29  0.16     0.47   0.05\n",
       "3                               Faces     0.36  0.04     0.46   0.00\n",
       "4                           GO:OD AM      0.50  0.06     0.47   0.12\n",
       "7                 The Divine Feminine     0.82  0.27     0.00   0.00\n",
       "6                            Swimming     0.93  0.08     0.15   0.00\n",
       "2                             Circles     0.86  0.14     0.00   0.14"
      ]
     },
     "execution_count": 44,
     "metadata": {},
     "output_type": "execute_result"
    }
   ],
   "source": [
    "\n",
    "year_topics.drop('year',axis=1)"
   ]
  },
  {
   "cell_type": "code",
   "execution_count": 45,
   "metadata": {},
   "outputs": [],
   "source": [
    "import matplotlib.pyplot as plt"
   ]
  },
  {
   "cell_type": "code",
   "execution_count": 46,
   "metadata": {},
   "outputs": [
    {
     "data": {
      "text/plain": [
       "<matplotlib.legend.Legend at 0x7fdd9061d1c0>"
      ]
     },
     "execution_count": 46,
     "metadata": {},
     "output_type": "execute_result"
    },
    {
     "data": {
      "image/png": "[encoded data removed]",
      "text/plain": [
       "<Figure size 1440x720 with 1 Axes>"
      ]
     },
     "metadata": {
      "needs_background": "light"
     },
     "output_type": "display_data"
    }
   ],
   "source": [
    "plt.figure(figsize=(20,10))\n",
    "plt.plot(year_topics['album_title'], year_topics['mindful'],label = 'mindful')\n",
    "plt.plot(year_topics['album_title'], year_topics['love'],label = 'love')\n",
    "plt.plot(year_topics['album_title'], year_topics['egotrip'],label = 'egotrip')\n",
    "plt.plot(year_topics['album_title'], year_topics['party'],label = 'party')\n",
    "\n",
    "plt.legend()"
   ]
  },
  {
   "cell_type": "code",
   "execution_count": null,
   "metadata": {},
   "outputs": [],
   "source": []
  },
  {
   "cell_type": "code",
   "execution_count": null,
   "metadata": {},
   "outputs": [],
   "source": []
  }
 ],
 "metadata": {
  "interpreter": {
   "hash": "6a532158365df33c0b5f118110dc69bd27a6f819ef3aa51d42e9bf47619114f2"
  },
  "kernelspec": {
   "display_name": "Python 3.9.1 64-bit ('spotenv': conda)",
   "name": "python3"
  },
  "language_info": {
   "codemirror_mode": {
    "name": "ipython",
    "version": 3
   },
   "file_extension": ".py",
   "mimetype": "text/x-python",
   "name": "python",
   "nbconvert_exporter": "python",
   "pygments_lexer": "ipython3",
   "version": "3.9.1"
  },
  "orig_nbformat": 4
 },
 "nbformat": 4,
 "nbformat_minor": 2
}
